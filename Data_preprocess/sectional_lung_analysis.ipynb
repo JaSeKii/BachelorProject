{
 "cells": [
  {
   "cell_type": "markdown",
   "metadata": {},
   "source": [
    "# Sectional lung analysis\n",
    "\n",
    "Aim:\n",
    "- Divide lungs into equally spaced sections\n",
    "- Analyze distribution in each section\n",
    "    - Histograms and pdfs\n",
    "    - Test of distribution\n",
    "- Compare sections in each patient - does any section stand out?"
   ]
  },
  {
   "cell_type": "code",
   "execution_count": 1,
   "metadata": {},
   "outputs": [
    {
     "name": "stderr",
     "output_type": "stream",
     "text": [
      "/Users/bruger/anaconda3/envs/bachelor/lib/python3.12/site-packages/tqdm/auto.py:21: TqdmWarning: IProgress not found. Please update jupyter and ipywidgets. See https://ipywidgets.readthedocs.io/en/stable/user_install.html\n",
      "  from .autonotebook import tqdm as notebook_tqdm\n"
     ]
    }
   ],
   "source": [
    "import os\n",
    "import numpy as np\n",
    "import re\n",
    "\n",
    "from preprocess_tools import *"
   ]
  },
  {
   "cell_type": "markdown",
   "metadata": {},
   "source": [
    "# Read segmentations"
   ]
  },
  {
   "cell_type": "code",
   "execution_count": 106,
   "metadata": {},
   "outputs": [],
   "source": [
    "def make_output_dirs(output_folder_dir, patient_ids):\n",
    "    output_dirs = []\n",
    "    for patient_id in patient_ids:\n",
    "        output_dirs.append(output_folder_dir + f\"/_{patient_id}_\" + '.nii.gz')\n",
    "    return output_dirs\n",
    "\n",
    "def get_sorted_dirs(dirs, patient_ids):\n",
    "    patient_file_map = {pid: [] for pid in patient_ids}\n",
    "\n",
    "    for dir in dirs:\n",
    "        # Extract patient ID from the filename\n",
    "        patient_id = re.search(r'(_\\d{4}_)', os.path.basename(dir)).group().split('_')[1]\n",
    "        if patient_id in patient_file_map:\n",
    "            patient_file_map[patient_id].append(dir)\n",
    "\n",
    "    # Sort the patient IDs\n",
    "    sorted_patient_ids = sorted(patient_ids, key=int)\n",
    "\n",
    "    # Create a sorted list of file paths based on sorted patient IDs\n",
    "    sorted_ct_dirs = []\n",
    "    for pid in sorted_patient_ids:\n",
    "        sorted_ct_dirs.extend(patient_file_map[pid])\n",
    "    \n",
    "    return sorted_ct_dirs"
   ]
  },
  {
   "cell_type": "code",
   "execution_count": 94,
   "metadata": {},
   "outputs": [],
   "source": [
    "def get_patient_ids(input_dir, file_name_startswith):\n",
    "    patient_ids = []\n",
    "    for file_name in os.listdir(input_dir):\n",
    "        if file_name.startswith(file_name_startswith) and file_name.endswith('.nii.gz'):\n",
    "            patient_id = re.search(r'(_\\d{4}_)', file_name).group().split('_')[1]\n",
    "            patient_ids.append(patient_id)\n",
    "    return patient_ids\n",
    "\n",
    "def get_file_dirs(folder_dir, file_name_startswith):\n",
    "    file_paths = []\n",
    "    for file_name in os.listdir(folder_dir):\n",
    "        if file_name.startswith(file_name_startswith) and file_name.endswith('.nii.gz'):\n",
    "            file_paths.append(os.path.join(folder_dir, file_name))\n",
    "    return file_paths\n",
    "\n",
    "def get_files(file_paths):\n",
    "    files = []\n",
    "    for file_path in file_paths:\n",
    "        # file_path = os.path(file_path)\n",
    "        file_as_np = load_nifti_convert_to_numpy(input_path=file_path)\n",
    "        files.append(file_as_np)\n",
    "    return files\n",
    "\n",
    "def get_lung_seg(total_segs):\n",
    "    lung_segs = []\n",
    "    for total_seg in total_segs:\n",
    "        lung_segs.append(np.isin(total_seg,np.array([10,11,12,13,14])).astype(int))\n",
    "    return lung_segs"
   ]
  },
  {
   "cell_type": "code",
   "execution_count": 67,
   "metadata": {},
   "outputs": [],
   "source": [
    "ct_folder_dir = '/Users/bruger/Desktop/Bachelor/data/ct_images_segmented'\n",
    "seg_folder_dir = '/Users/bruger/Desktop/Bachelor/data/segmentations'"
   ]
  },
  {
   "cell_type": "code",
   "execution_count": 68,
   "metadata": {},
   "outputs": [],
   "source": [
    "patient_ids = get_patient_ids(input_dir=seg_folder_dir, file_name_startswith='total_seg_Lung-Pilot-1')"
   ]
  },
  {
   "cell_type": "code",
   "execution_count": 69,
   "metadata": {},
   "outputs": [],
   "source": [
    "ct_dirs = get_file_dirs(folder_dir=ct_folder_dir, file_name_startswith='Lung-Pilot-1')\n",
    "ct_dirs = get_sorted_dirs(ct_dirs, patient_ids)"
   ]
  },
  {
   "cell_type": "code",
   "execution_count": 95,
   "metadata": {},
   "outputs": [],
   "source": [
    "total_seg_dirs = get_file_dirs(folder_dir=seg_folder_dir, file_name_startswith='total_seg_Lung-Pilot-1')\n",
    "total_seg_dirs = get_sorted_dirs(total_seg_dirs, patient_ids)"
   ]
  },
  {
   "cell_type": "code",
   "execution_count": 96,
   "metadata": {},
   "outputs": [],
   "source": [
    "total_segs = get_files(file_paths=total_seg_dirs)"
   ]
  },
  {
   "cell_type": "code",
   "execution_count": 98,
   "metadata": {},
   "outputs": [],
   "source": [
    "lung_segs = get_lung_seg(total_segs)"
   ]
  },
  {
   "cell_type": "code",
   "execution_count": 107,
   "metadata": {},
   "outputs": [],
   "source": [
    "output_dirs = make_output_dirs('/Users/bruger/Desktop/Bachelor/data/lung_segmentations', patient_ids)\n",
    "output_dirs = get_sorted_dirs(output_dirs, patient_ids)"
   ]
  },
  {
   "cell_type": "code",
   "execution_count": 108,
   "metadata": {},
   "outputs": [
    {
     "name": "stdout",
     "output_type": "stream",
     "text": [
      "saving\n",
      "saving\n",
      "saving\n",
      "saving\n",
      "saving\n",
      "saving\n",
      "saving\n",
      "saving\n",
      "saving\n",
      "saving\n",
      "saving\n",
      "saving\n",
      "saving\n",
      "saving\n",
      "saving\n",
      "saving\n",
      "saving\n",
      "saving\n",
      "saving\n",
      "saving\n",
      "saving\n",
      "saving\n",
      "saving\n",
      "saving\n",
      "saving\n"
     ]
    }
   ],
   "source": [
    "# Save lung segmentations for inspection\n",
    "for lung_seg, output_dir, ct_dir in zip(lung_segs, output_dirs, ct_dirs):\n",
    "    convert_numpy_to_nifti_and_save(np_file=lung_seg, output_path=output_dir, original_nifti_path=ct_dir)"
   ]
  },
  {
   "cell_type": "markdown",
   "metadata": {},
   "source": [
    "# Divide segmentations into more sections\n",
    "- Find min and max position of segmentation and divide into 10(?)\n",
    "- Maybe divide in right and left lung - 20 segments"
   ]
  },
  {
   "cell_type": "code",
   "execution_count": 114,
   "metadata": {},
   "outputs": [],
   "source": [
    "def get_segmentation_layer_range(segmentations):\n",
    "    seg_ranges = []\n",
    "\n",
    "    for segmentation in segmentations:\n",
    "        seg_bottom = None\n",
    "        seg_top = None\n",
    "        seg_size = None\n",
    "\n",
    "        for i in range(segmentation.shape[2]):\n",
    "            layer = segmentation[:, :, i]\n",
    "            if seg_bottom is None and np.count_nonzero(layer) > 0:\n",
    "                seg_bottom = i\n",
    "\n",
    "            reversed_i = segmentation.shape[2] - 1 - i\n",
    "            rev_layer = segmentation[:, :, reversed_i]\n",
    "            if seg_top is None and np.count_nonzero(rev_layer) > 0:\n",
    "                seg_top = reversed_i\n",
    "\n",
    "            if seg_bottom is not None and seg_top is not None:\n",
    "                seg_size = seg_top - seg_bottom\n",
    "                break\n",
    "\n",
    "        seg_ranges.append([seg_bottom, seg_top, seg_size])\n",
    "\n",
    "    return seg_ranges\n",
    "\n",
    "def get_sections(lung_seg_ranges, n_sections=10):\n",
    "    \"\"\"\n",
    "    Returns which layers (z-axis) in which the lungs should be divided into, to be equally divided into n_sections\n",
    "    \"\"\"\n",
    "    sections = []\n",
    "    for lung_seg_range in lung_seg_ranges:\n",
    "        seg_bottom, _, seg_size = lung_seg_range\n",
    "        sec_size = int(seg_size / n_sections)\n",
    "\n",
    "        section_start = []\n",
    "        for i in range(n_sections):\n",
    "            section_start.append(seg_bottom + i*sec_size)\n",
    "        sections.append(section_start)\n",
    "    return sections"
   ]
  },
  {
   "cell_type": "code",
   "execution_count": 112,
   "metadata": {},
   "outputs": [],
   "source": [
    "lung_seg_ranges = get_segmentation_layer_range(lung_segs)"
   ]
  },
  {
   "cell_type": "code",
   "execution_count": 124,
   "metadata": {},
   "outputs": [],
   "source": [
    "sections = get_sections(lung_seg_ranges)"
   ]
  },
  {
   "cell_type": "markdown",
   "metadata": {},
   "source": [
    "Del segmentation op efter sections"
   ]
  },
  {
   "cell_type": "markdown",
   "metadata": {},
   "source": [
    "# Apply segments to CT images"
   ]
  },
  {
   "cell_type": "code",
   "execution_count": null,
   "metadata": {},
   "outputs": [],
   "source": []
  },
  {
   "cell_type": "markdown",
   "metadata": {},
   "source": [
    "# Plots and statistical analysis"
   ]
  },
  {
   "cell_type": "code",
   "execution_count": null,
   "metadata": {},
   "outputs": [],
   "source": []
  }
 ],
 "metadata": {
  "kernelspec": {
   "display_name": "bachelor",
   "language": "python",
   "name": "python3"
  },
  "language_info": {
   "codemirror_mode": {
    "name": "ipython",
    "version": 3
   },
   "file_extension": ".py",
   "mimetype": "text/x-python",
   "name": "python",
   "nbconvert_exporter": "python",
   "pygments_lexer": "ipython3",
   "version": "3.12.5"
  }
 },
 "nbformat": 4,
 "nbformat_minor": 2
}
