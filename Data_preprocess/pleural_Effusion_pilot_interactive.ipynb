{
 "cells": [
  {
   "cell_type": "markdown",
   "metadata": {},
   "source": [
    "'''\n",
    "To do:\n",
    "\n",
    "load dicom data\n",
    "\n",
    "convert to nifti\n",
    "\n",
    "run totalsegmentator - pleural effusion\n",
    "\n",
    "save segmentation\n",
    "\n",
    "qualitative examination in slicer\n",
    "\n",
    "get sørensen-dice score between GT and totalSeg \n",
    "'''"
   ]
  },
  {
   "cell_type": "code",
   "execution_count": 56,
   "metadata": {},
   "outputs": [],
   "source": [
    "\n",
    "from preprocess_tools import *\n",
    "import os\n",
    "import glob\n",
    "import SimpleITK as sitk\n",
    "from tqdm import tqdm\n",
    "\n",
    "\n",
    "\n",
    "dataset_path = '/Lungeholdet2024/PleuraEffusion_pilot/Dataset/manifest-1603198545583/NSCLC-Radiomics'\n",
    "\n",
    "def convertDCM(DCM_file_name: str, output_path):\n",
    "    reader = sitk.ImageSeriesReader()\n",
    "    dicom_names = reader.GetGDCMSeriesFileNames(DCM_file_name)\n",
    "    reader.SetFileNames(dicom_names)\n",
    "    image = reader.Execute()\n",
    "\n",
    "    # Added a call to PermuteAxes to change the axes of the data\n",
    "    image = sitk.PermuteAxes(image, [2, 1, 0])\n",
    "\n",
    "    sitk.WriteImage(image, f'{output_path}.nii.gz')\n"
   ]
  },
  {
   "cell_type": "code",
   "execution_count": 69,
   "metadata": {},
   "outputs": [
    {
     "data": {
      "text/plain": [
       "49"
      ]
     },
     "execution_count": 69,
     "metadata": {},
     "output_type": "execute_result"
    }
   ],
   "source": [
    "files = glob.glob(os.path.join(dataset_path, \"*1-0[0-4][0-9]*\", \"**\", \"**\", \"[0-9]-[0-9][0-9]*.dcm\"))\n",
    "\n",
    "files = [f.replace('\\\\', '/') for f in files]\n",
    "folder_set = set()\n",
    "for folder in files:\n",
    "    fold = folder.split('/1-')[0]\n",
    "    folder_set.add(fold)\n",
    "len(folder_set)"
   ]
  },
  {
   "cell_type": "code",
   "execution_count": 63,
   "metadata": {},
   "outputs": [
    {
     "name": "stderr",
     "output_type": "stream",
     "text": [
      "100%|██████████| 49/49 [02:03<00:00,  2.53s/it]\n"
     ]
    }
   ],
   "source": [
    "for folder in tqdm(folder_set):\n",
    "    convertDCM(folder,output_path=f'/Lungeholdet2024/PleuraEffusion_pilot/Dataset/nifti_data/{folder[85:94]}')\n"
   ]
  },
  {
   "cell_type": "code",
   "execution_count": 70,
   "metadata": {},
   "outputs": [
    {
     "name": "stderr",
     "output_type": "stream",
     "text": [
      "  0%|          | 0/49 [00:00<?, ?it/s]c:\\Users\\PC\\anaconda3\\envs\\Lungeholdet\\lib\\site-packages\\nnunetv2\\inference\\predict_from_raw_data.py:84: FutureWarning: You are using `torch.load` with `weights_only=False` (the current default value), which uses the default pickle module implicitly. It is possible to construct malicious pickle data which will execute arbitrary code during unpickling (See https://github.com/pytorch/pytorch/blob/main/SECURITY.md#untrusted-models for more details). In a future release, the default value for `weights_only` will be flipped to `True`. This limits the functions that could be executed during unpickling. Arbitrary objects will no longer be allowed to be loaded via this mode unless they are explicitly allowlisted by the user via `torch.serialization.add_safe_globals`. We recommend you start setting `weights_only=True` for any use case where you don't have full control of the loaded file. Please open an issue on GitHub for any issues related to this experimental feature.\n",
      "  checkpoint = torch.load(join(model_training_output_dir, f'fold_{f}', checkpoint_name),\n",
      "100%|██████████| 49/49 [46:28<00:00, 56.91s/it]\n"
     ]
    }
   ],
   "source": [
    "for folder in tqdm(folder_set):\n",
    "    get_segmentations(f'/Lungeholdet2024/PleuraEffusion_pilot/Dataset/nifti_data/{folder[85:94]}.nii.gz',\n",
    "                      f'/Lungeholdet2024/PleuraEffusion_pilot/Dataset/total_pleural_segmentation/{folder[85:94]}.nii.gz',\n",
    "                      task='pleural_pericard_effusion', fast=False)"
   ]
  },
  {
   "cell_type": "code",
   "execution_count": 71,
   "metadata": {},
   "outputs": [
    {
     "data": {
      "text/plain": [
       "{'/Lungeholdet2024/PleuraEffusion_pilot/Effusions/LUNG1-001/LUNG1-001_effusion_first_reviewer.nii.gz',\n",
       " '/Lungeholdet2024/PleuraEffusion_pilot/Effusions/LUNG1-002/LUNG1-002_effusion_first_reviewer.nii.gz',\n",
       " '/Lungeholdet2024/PleuraEffusion_pilot/Effusions/LUNG1-005/LUNG1-005_effusion_first_reviewer.nii.gz',\n",
       " '/Lungeholdet2024/PleuraEffusion_pilot/Effusions/LUNG1-008/LUNG1-008_effusion_first_reviewer.nii.gz',\n",
       " '/Lungeholdet2024/PleuraEffusion_pilot/Effusions/LUNG1-013/LUNG1-013_effusion_first_reviewer.nii.gz',\n",
       " '/Lungeholdet2024/PleuraEffusion_pilot/Effusions/LUNG1-016/LUNG1-016_effusion_first_reviewer.nii.gz',\n",
       " '/Lungeholdet2024/PleuraEffusion_pilot/Effusions/LUNG1-018/LUNG1-018_effusion_first_reviewer.nii.gz',\n",
       " '/Lungeholdet2024/PleuraEffusion_pilot/Effusions/LUNG1-024/LUNG1-024_effusion_first_reviewer.nii.gz',\n",
       " '/Lungeholdet2024/PleuraEffusion_pilot/Effusions/LUNG1-026/LUNG1-026_effusion_first_reviewer.nii.gz',\n",
       " '/Lungeholdet2024/PleuraEffusion_pilot/Effusions/LUNG1-028/LUNG1-028_effusion_first_reviewer.nii.gz',\n",
       " '/Lungeholdet2024/PleuraEffusion_pilot/Effusions/LUNG1-035/LUNG1-035_effusion_first_reviewer.nii.gz',\n",
       " '/Lungeholdet2024/PleuraEffusion_pilot/Effusions/LUNG1-038/LUNG1-038_effusion_first_reviewer.nii.gz',\n",
       " '/Lungeholdet2024/PleuraEffusion_pilot/Effusions/LUNG1-042/LUNG1-042_effusion_first_reviewer.nii.gz',\n",
       " '/Lungeholdet2024/PleuraEffusion_pilot/Effusions/LUNG1-046/LUNG1-046_effusion_first_reviewer.nii.gz'}"
      ]
     },
     "execution_count": 71,
     "metadata": {},
     "output_type": "execute_result"
    }
   ],
   "source": [
    "effusion_gt_path = '\\Lungeholdet2024\\PleuraEffusion_pilot\\Effusions'\n",
    "files = glob.glob(os.path.join(effusion_gt_path, \"*1-0[0-4][0-9]*\",\"*first_reviewer.*\"))\n",
    "\n",
    "files = [f.replace('\\\\', '/') for f in files]\n",
    "gt_effusion_set = set()\n",
    "for folder in files:\n",
    "    fold = folder.split('/1-')[0]\n",
    "    gt_effusion_set.add(fold)\n",
    "gt_effusion_set"
   ]
  },
  {
   "cell_type": "code",
   "execution_count": 145,
   "metadata": {},
   "outputs": [
    {
     "name": "stderr",
     "output_type": "stream",
     "text": [
      "100%|██████████| 14/14 [04:17<00:00, 18.37s/it]\n"
     ]
    }
   ],
   "source": [
    "dice_coefficients = []\n",
    "for lung_patient in tqdm(gt_effusion_set):\n",
    "    totalseg = load_nifti_convert_to_numpy(f'/Lungeholdet2024/PleuraEffusion_pilot/Dataset/total_pleural_segmentation/{lung_patient[48:57]}'+'.nii.gz')\n",
    "    totalseg = totalseg.transpose(2,1,0)\n",
    "    gt_seg = load_nifti_convert_to_numpy(lung_patient)\n",
    "    totalseg = np.where(totalseg == 2,1,0)\n",
    "    im1 = np.asarray(totalseg).astype(np.bool_)\n",
    "    im2 = np.asarray(gt_seg).astype(np.bool_)\n",
    "\n",
    "    if im1.shape != im2.shape:\n",
    "        raise ValueError(\"Shape mismatch: im1 and im2 must have the same shape.\")\n",
    "\n",
    "    # Compute Dice coefficient\n",
    "    intersection = np.logical_and(im1, im2)\n",
    "    dice_coefficient = 2. * intersection.sum() / (im1.sum() + im2.sum())\n",
    "    dice_coefficients.append([lung_patient[48:57],dice_coefficient])\n",
    "    print(f'The dice coefficient of patient {lung_patient[55:57]} is {dice_coefficient}')"
   ]
  },
  {
   "cell_type": "code",
   "execution_count": 146,
   "metadata": {},
   "outputs": [
    {
     "data": {
      "text/plain": [
       "[['LUNG1-026', 0.0],\n",
       " ['LUNG1-005', 0.005750684632918495],\n",
       " ['LUNG1-038', 0.0],\n",
       " ['LUNG1-008', 0.00047337089803232843],\n",
       " ['LUNG1-001', 0.0],\n",
       " ['LUNG1-035', 0.0],\n",
       " ['LUNG1-042', 0.0],\n",
       " ['LUNG1-046', 0.0],\n",
       " ['LUNG1-013', 0.0],\n",
       " ['LUNG1-016', 0.0],\n",
       " ['LUNG1-028', 0.0],\n",
       " ['LUNG1-024', 0.016665542953368858],\n",
       " ['LUNG1-002', 0.0],\n",
       " ['LUNG1-018', 0.0]]"
      ]
     },
     "execution_count": 146,
     "metadata": {},
     "output_type": "execute_result"
    }
   ],
   "source": [
    "dice_coefficients"
   ]
  },
  {
   "cell_type": "code",
   "execution_count": 91,
   "metadata": {},
   "outputs": [
    {
     "data": {
      "text/plain": [
       "'LUNG1-026'"
      ]
     },
     "execution_count": 91,
     "metadata": {},
     "output_type": "execute_result"
    }
   ],
   "source": [
    "f'/Lungeholdet2024/PleuraEffusion_pilot/Dataset/total_pleural_segmentation/{list(gt_effusion_set)[0][48:57]}'+'.nii.gz'\n",
    "list(gt_effusion_set)[0][48:57]\n"
   ]
  }
 ],
 "metadata": {
  "kernelspec": {
   "display_name": "Lungeholdet",
   "language": "python",
   "name": "python3"
  },
  "language_info": {
   "codemirror_mode": {
    "name": "ipython",
    "version": 3
   },
   "file_extension": ".py",
   "mimetype": "text/x-python",
   "name": "python",
   "nbconvert_exporter": "python",
   "pygments_lexer": "ipython3",
   "version": "3.10.14"
  }
 },
 "nbformat": 4,
 "nbformat_minor": 2
}
