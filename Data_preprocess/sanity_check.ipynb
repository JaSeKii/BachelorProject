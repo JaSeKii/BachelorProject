{
 "cells": [
  {
   "cell_type": "code",
   "execution_count": 1,
   "metadata": {},
   "outputs": [
    {
     "name": "stderr",
     "output_type": "stream",
     "text": [
      "c:\\Users\\PC\\anaconda3\\envs\\Lungeholdet\\lib\\site-packages\\tqdm\\auto.py:21: TqdmWarning: IProgress not found. Please update jupyter and ipywidgets. See https://ipywidgets.readthedocs.io/en/stable/user_install.html\n",
      "  from .autonotebook import tqdm as notebook_tqdm\n"
     ]
    }
   ],
   "source": [
    "import numpy as np\n",
    "from preprocess_tools import *\n",
    "import os\n",
    "from main_preprocess import input_path_Dataset_resampled, input_path_Dataset_raw\n"
   ]
  },
  {
   "cell_type": "code",
   "execution_count": 9,
   "metadata": {},
   "outputs": [
    {
     "name": "stdout",
     "output_type": "stream",
     "text": [
      "Raw image shape: (512, 512, 705) and resampled imange shape: (740, 740, 881)\n",
      "\n",
      "Raw image shape: (512, 512, 833) and resampled imange shape: (640, 640, 1041)\n",
      "\n",
      "Raw image shape: (512, 512, 785) and resampled imange shape: (640, 640, 981)\n",
      "\n",
      "Raw image shape: (512, 512, 693) and resampled imange shape: (736, 736, 866)\n",
      "\n",
      "Raw image shape: (512, 512, 773) and resampled imange shape: (678, 678, 966)\n",
      "\n",
      "Raw image shape: (512, 512, 673) and resampled imange shape: (640, 640, 841)\n",
      "\n",
      "Raw image shape: (512, 512, 713) and resampled imange shape: (796, 796, 891)\n",
      "\n",
      "Raw image shape: (512, 512, 729) and resampled imange shape: (640, 640, 911)\n",
      "\n",
      "Raw image shape: (512, 512, 621) and resampled imange shape: (640, 640, 776)\n",
      "\n",
      "Raw image shape: (512, 512, 773) and resampled imange shape: (640, 640, 966)\n",
      "\n",
      "Raw image shape: (512, 512, 809) and resampled imange shape: (704, 704, 1011)\n",
      "\n",
      "Raw image shape: (512, 512, 765) and resampled imange shape: (740, 740, 956)\n",
      "\n",
      "Raw image shape: (512, 512, 777) and resampled imange shape: (790, 790, 971)\n",
      "\n",
      "Raw image shape: (512, 512, 733) and resampled imange shape: (640, 640, 916)\n",
      "\n",
      "Raw image shape: (512, 512, 749) and resampled imange shape: (798, 798, 936)\n",
      "\n",
      "Raw image shape: (512, 512, 745) and resampled imange shape: (796, 796, 931)\n",
      "\n",
      "Raw image shape: (512, 512, 801) and resampled imange shape: (820, 820, 1001)\n",
      "\n",
      "Raw image shape: (512, 512, 677) and resampled imange shape: (616, 616, 846)\n",
      "\n",
      "Raw image shape: (512, 512, 705) and resampled imange shape: (640, 640, 881)\n",
      "\n",
      "Raw image shape: (512, 512, 721) and resampled imange shape: (640, 640, 901)\n",
      "\n",
      "Raw image shape: (512, 512, 657) and resampled imange shape: (640, 640, 821)\n",
      "\n",
      "Raw image shape: (512, 512, 693) and resampled imange shape: (640, 640, 866)\n",
      "\n",
      "Raw image shape: (512, 512, 641) and resampled imange shape: (640, 640, 801)\n",
      "\n",
      "Raw image shape: (512, 512, 705) and resampled imange shape: (640, 640, 881)\n",
      "\n",
      "Raw image shape: (512, 512, 681) and resampled imange shape: (640, 640, 851)\n",
      "\n"
     ]
    }
   ],
   "source": [
    "# list dimensions of all dataset files\n",
    "for patient in os.listdir(input_path_Dataset_resampled):\n",
    "    np_img_raw = load_nifti_convert_to_numpy(input_path_Dataset_raw+patient)   \n",
    "    np_img_resampled = load_nifti_convert_to_numpy(input_path_Dataset_resampled+patient)\n",
    "    print(f'Raw image shape: {np_img_raw.shape} and resampled imange shape: {np_img_resampled.shape}\\n')"
   ]
  }
 ],
 "metadata": {
  "kernelspec": {
   "display_name": "Lungeholdet",
   "language": "python",
   "name": "python3"
  },
  "language_info": {
   "codemirror_mode": {
    "name": "ipython",
    "version": 3
   },
   "file_extension": ".py",
   "mimetype": "text/x-python",
   "name": "python",
   "nbconvert_exporter": "python",
   "pygments_lexer": "ipython3",
   "version": "3.10.14"
  }
 },
 "nbformat": 4,
 "nbformat_minor": 2
}
