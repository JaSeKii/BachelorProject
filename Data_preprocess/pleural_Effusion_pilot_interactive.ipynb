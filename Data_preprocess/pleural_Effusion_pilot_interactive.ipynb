{
 "cells": [
  {
   "cell_type": "markdown",
   "metadata": {},
   "source": [
    "'''\n",
    "To do:\n",
    "\n",
    "load dicom data\n",
    "\n",
    "convert to nifti\n",
    "\n",
    "run totalsegmentator - pleural effusion\n",
    "\n",
    "save segmentation\n",
    "\n",
    "qualitative examination in slicer\n",
    "\n",
    "get sørensen-dice score between GT and totalSeg \n",
    "'''"
   ]
  },
  {
   "cell_type": "code",
   "execution_count": 1,
   "metadata": {},
   "outputs": [
    {
     "name": "stderr",
     "output_type": "stream",
     "text": [
      "c:\\Users\\PC\\anaconda3\\envs\\Lungeholdet\\lib\\site-packages\\tqdm\\auto.py:21: TqdmWarning: IProgress not found. Please update jupyter and ipywidgets. See https://ipywidgets.readthedocs.io/en/stable/user_install.html\n",
      "  from .autonotebook import tqdm as notebook_tqdm\n"
     ]
    }
   ],
   "source": [
    "\n",
    "from preprocess_tools import *\n",
    "import os\n",
    "import glob\n",
    "import SimpleITK as sitk\n",
    "from tqdm import tqdm\n",
    "from scipy.spatial import distance\n",
    "\n",
    "\n",
    "\n",
    "dataset_path = '/Lungeholdet2024/PleuraEffusion_pilot/Dataset/manifest-1603198545583/NSCLC-Radiomics'\n",
    "\n",
    "def convertDCM(DCM_file_name: str, output_path):\n",
    "    reader = sitk.ImageSeriesReader()\n",
    "    dicom_names = reader.GetGDCMSeriesFileNames(DCM_file_name)\n",
    "    reader.SetFileNames(dicom_names)\n",
    "    image = reader.Execute()\n",
    "\n",
    "    # Added a call to PermuteAxes to change the axes of the data\n",
    "    image = sitk.PermuteAxes(image, [2, 1, 0])\n",
    "\n",
    "    sitk.WriteImage(image, f'{output_path}.nii.gz')\n"
   ]
  },
  {
   "cell_type": "code",
   "execution_count": 2,
   "metadata": {},
   "outputs": [
    {
     "data": {
      "text/plain": [
       "49"
      ]
     },
     "execution_count": 2,
     "metadata": {},
     "output_type": "execute_result"
    }
   ],
   "source": [
    "files = glob.glob(os.path.join(dataset_path, \"*1-0[0-4][0-9]*\", \"**\", \"**\", \"[0-9]-[0-9][0-9]*.dcm\"))\n",
    "\n",
    "files = [f.replace('\\\\', '/') for f in files]\n",
    "folder_set = set()\n",
    "for folder in files:\n",
    "    fold = folder.split('/1-')[0]\n",
    "    folder_set.add(fold)\n",
    "len(folder_set)"
   ]
  },
  {
   "cell_type": "code",
   "execution_count": 39,
   "metadata": {},
   "outputs": [
    {
     "name": "stderr",
     "output_type": "stream",
     "text": [
      "  4%|▍         | 2/49 [00:07<03:00,  3.83s/it]\n"
     ]
    },
    {
     "ename": "KeyboardInterrupt",
     "evalue": "",
     "output_type": "error",
     "traceback": [
      "\u001b[1;31m---------------------------------------------------------------------------\u001b[0m",
      "\u001b[1;31mKeyboardInterrupt\u001b[0m                         Traceback (most recent call last)",
      "\u001b[1;32m~\\AppData\\Local\\Temp\\ipykernel_17216\\1616829129.py\u001b[0m in \u001b[0;36m?\u001b[1;34m()\u001b[0m\n\u001b[0;32m      1\u001b[0m \u001b[1;32mfor\u001b[0m \u001b[0mfolder\u001b[0m \u001b[1;32min\u001b[0m \u001b[0mtqdm\u001b[0m\u001b[1;33m(\u001b[0m\u001b[0mfolder_set\u001b[0m\u001b[1;33m)\u001b[0m\u001b[1;33m:\u001b[0m\u001b[1;33m\u001b[0m\u001b[1;33m\u001b[0m\u001b[0m\n\u001b[1;32m----> 2\u001b[1;33m     \u001b[0mconvertDCM\u001b[0m\u001b[1;33m(\u001b[0m\u001b[0mfolder\u001b[0m\u001b[1;33m,\u001b[0m\u001b[0moutput_path\u001b[0m\u001b[1;33m=\u001b[0m\u001b[1;34mf'/Lungeholdet2024/PleuraEffusion_pilot/Dataset/nifti_data/{folder[85:94]}'\u001b[0m\u001b[1;33m)\u001b[0m\u001b[1;33m\u001b[0m\u001b[1;33m\u001b[0m\u001b[0m\n\u001b[0m",
      "\u001b[1;32m~\\AppData\\Local\\Temp\\ipykernel_17216\\1171120048.py\u001b[0m in \u001b[0;36m?\u001b[1;34m(DCM_file_name, output_path)\u001b[0m\n\u001b[0;32m     17\u001b[0m \u001b[1;33m\u001b[0m\u001b[0m\n\u001b[0;32m     18\u001b[0m     \u001b[1;31m# Added a call to PermuteAxes to change the axes of the data\u001b[0m\u001b[1;33m\u001b[0m\u001b[1;33m\u001b[0m\u001b[0m\n\u001b[0;32m     19\u001b[0m     \u001b[0mimage\u001b[0m \u001b[1;33m=\u001b[0m \u001b[0msitk\u001b[0m\u001b[1;33m.\u001b[0m\u001b[0mPermuteAxes\u001b[0m\u001b[1;33m(\u001b[0m\u001b[0mimage\u001b[0m\u001b[1;33m,\u001b[0m \u001b[1;33m[\u001b[0m\u001b[1;36m2\u001b[0m\u001b[1;33m,\u001b[0m \u001b[1;36m1\u001b[0m\u001b[1;33m,\u001b[0m \u001b[1;36m0\u001b[0m\u001b[1;33m]\u001b[0m\u001b[1;33m)\u001b[0m\u001b[1;33m\u001b[0m\u001b[1;33m\u001b[0m\u001b[0m\n\u001b[0;32m     20\u001b[0m \u001b[1;33m\u001b[0m\u001b[0m\n\u001b[1;32m---> 21\u001b[1;33m     \u001b[0msitk\u001b[0m\u001b[1;33m.\u001b[0m\u001b[0mWriteImage\u001b[0m\u001b[1;33m(\u001b[0m\u001b[0mimage\u001b[0m\u001b[1;33m,\u001b[0m \u001b[1;34mf'{output_path}.nii.gz'\u001b[0m\u001b[1;33m)\u001b[0m\u001b[1;33m\u001b[0m\u001b[1;33m\u001b[0m\u001b[0m\n\u001b[0m",
      "\u001b[1;32mc:\\Users\\PC\\anaconda3\\envs\\Lungeholdet\\lib\\site-packages\\SimpleITK\\extra.py\u001b[0m in \u001b[0;36m?\u001b[1;34m(image, fileName, useCompression, compressionLevel, imageIO, compressor)\u001b[0m\n\u001b[0;32m    430\u001b[0m     \u001b[0mwriter\u001b[0m\u001b[1;33m.\u001b[0m\u001b[0mSetUseCompression\u001b[0m\u001b[1;33m(\u001b[0m\u001b[0museCompression\u001b[0m\u001b[1;33m)\u001b[0m\u001b[1;33m\u001b[0m\u001b[1;33m\u001b[0m\u001b[0m\n\u001b[0;32m    431\u001b[0m     \u001b[0mwriter\u001b[0m\u001b[1;33m.\u001b[0m\u001b[0mSetCompressionLevel\u001b[0m\u001b[1;33m(\u001b[0m\u001b[0mcompressionLevel\u001b[0m\u001b[1;33m)\u001b[0m\u001b[1;33m\u001b[0m\u001b[1;33m\u001b[0m\u001b[0m\n\u001b[0;32m    432\u001b[0m     \u001b[0mwriter\u001b[0m\u001b[1;33m.\u001b[0m\u001b[0mSetImageIO\u001b[0m\u001b[1;33m(\u001b[0m\u001b[0mimageIO\u001b[0m\u001b[1;33m)\u001b[0m\u001b[1;33m\u001b[0m\u001b[1;33m\u001b[0m\u001b[0m\n\u001b[0;32m    433\u001b[0m     \u001b[0mwriter\u001b[0m\u001b[1;33m.\u001b[0m\u001b[0mSetCompressor\u001b[0m\u001b[1;33m(\u001b[0m\u001b[0mcompressor\u001b[0m\u001b[1;33m)\u001b[0m\u001b[1;33m\u001b[0m\u001b[1;33m\u001b[0m\u001b[0m\n\u001b[1;32m--> 434\u001b[1;33m     \u001b[1;32mreturn\u001b[0m \u001b[0mwriter\u001b[0m\u001b[1;33m.\u001b[0m\u001b[0mExecute\u001b[0m\u001b[1;33m(\u001b[0m\u001b[0mimage\u001b[0m\u001b[1;33m)\u001b[0m\u001b[1;33m\u001b[0m\u001b[1;33m\u001b[0m\u001b[0m\n\u001b[0m",
      "\u001b[1;32mc:\\Users\\PC\\anaconda3\\envs\\Lungeholdet\\lib\\site-packages\\SimpleITK\\SimpleITK.py\u001b[0m in \u001b[0;36m?\u001b[1;34m(self, *args)\u001b[0m\n\u001b[0;32m   7935\u001b[0m         \u001b[0mExecute\u001b[0m\u001b[1;33m(\u001b[0m\u001b[0mImageFileWriter\u001b[0m \u001b[0mself\u001b[0m\u001b[1;33m,\u001b[0m \u001b[0mImage\u001b[0m \u001b[0marg2\u001b[0m\u001b[1;33m,\u001b[0m \u001b[0mitk\u001b[0m\u001b[1;33m:\u001b[0m\u001b[1;33m:\u001b[0m\u001b[0msimple\u001b[0m\u001b[1;33m:\u001b[0m\u001b[1;33m:\u001b[0m\u001b[0mPathType\u001b[0m \u001b[0mconst\u001b[0m \u001b[1;33m&\u001b[0m \u001b[0minFileName\u001b[0m\u001b[1;33m,\u001b[0m \u001b[0mbool\u001b[0m \u001b[0museCompression\u001b[0m\u001b[1;33m,\u001b[0m \u001b[0mint\u001b[0m \u001b[0mcompressionLevel\u001b[0m\u001b[1;33m)\u001b[0m\u001b[1;33m\u001b[0m\u001b[1;33m\u001b[0m\u001b[0m\n\u001b[0;32m   7936\u001b[0m \u001b[1;33m\u001b[0m\u001b[0m\n\u001b[0;32m   7937\u001b[0m \u001b[1;33m\u001b[0m\u001b[0m\n\u001b[0;32m   7938\u001b[0m         \"\"\"\n\u001b[1;32m-> 7939\u001b[1;33m         \u001b[1;32mreturn\u001b[0m \u001b[0m_SimpleITK\u001b[0m\u001b[1;33m.\u001b[0m\u001b[0mImageFileWriter_Execute\u001b[0m\u001b[1;33m(\u001b[0m\u001b[0mself\u001b[0m\u001b[1;33m,\u001b[0m \u001b[1;33m*\u001b[0m\u001b[0margs\u001b[0m\u001b[1;33m)\u001b[0m\u001b[1;33m\u001b[0m\u001b[1;33m\u001b[0m\u001b[0m\n\u001b[0m",
      "\u001b[1;31mKeyboardInterrupt\u001b[0m: "
     ]
    }
   ],
   "source": [
    "for folder in tqdm(folder_set):\n",
    "    convertDCM(folder,output_path=f'/Lungeholdet2024/PleuraEffusion_pilot/Dataset/nifti_data/{folder[85:94]}')\n"
   ]
  },
  {
   "cell_type": "code",
   "execution_count": 70,
   "metadata": {},
   "outputs": [
    {
     "name": "stderr",
     "output_type": "stream",
     "text": [
      "  0%|          | 0/49 [00:00<?, ?it/s]c:\\Users\\PC\\anaconda3\\envs\\Lungeholdet\\lib\\site-packages\\nnunetv2\\inference\\predict_from_raw_data.py:84: FutureWarning: You are using `torch.load` with `weights_only=False` (the current default value), which uses the default pickle module implicitly. It is possible to construct malicious pickle data which will execute arbitrary code during unpickling (See https://github.com/pytorch/pytorch/blob/main/SECURITY.md#untrusted-models for more details). In a future release, the default value for `weights_only` will be flipped to `True`. This limits the functions that could be executed during unpickling. Arbitrary objects will no longer be allowed to be loaded via this mode unless they are explicitly allowlisted by the user via `torch.serialization.add_safe_globals`. We recommend you start setting `weights_only=True` for any use case where you don't have full control of the loaded file. Please open an issue on GitHub for any issues related to this experimental feature.\n",
      "  checkpoint = torch.load(join(model_training_output_dir, f'fold_{f}', checkpoint_name),\n",
      "100%|██████████| 49/49 [46:28<00:00, 56.91s/it]\n"
     ]
    }
   ],
   "source": [
    "for folder in tqdm(folder_set):\n",
    "    get_segmentations(f'/Lungeholdet2024/PleuraEffusion_pilot/Dataset/nifti_data/{folder[85:94]}.nii.gz',\n",
    "                      f'/Lungeholdet2024/PleuraEffusion_pilot/Dataset/total_pleural_segmentation/{folder[85:94]}.nii.gz',\n",
    "                      task='pleural_pericard_effusion', fast=False)"
   ]
  },
  {
   "cell_type": "code",
   "execution_count": 3,
   "metadata": {},
   "outputs": [
    {
     "data": {
      "text/plain": [
       "{'/Lungeholdet2024/PleuraEffusion_pilot/Effusions/LUNG1-001/LUNG1-001_effusion_first_reviewer.nii.gz',\n",
       " '/Lungeholdet2024/PleuraEffusion_pilot/Effusions/LUNG1-002/LUNG1-002_effusion_first_reviewer.nii.gz',\n",
       " '/Lungeholdet2024/PleuraEffusion_pilot/Effusions/LUNG1-005/LUNG1-005_effusion_first_reviewer.nii.gz',\n",
       " '/Lungeholdet2024/PleuraEffusion_pilot/Effusions/LUNG1-008/LUNG1-008_effusion_first_reviewer.nii.gz',\n",
       " '/Lungeholdet2024/PleuraEffusion_pilot/Effusions/LUNG1-013/LUNG1-013_effusion_first_reviewer.nii.gz',\n",
       " '/Lungeholdet2024/PleuraEffusion_pilot/Effusions/LUNG1-016/LUNG1-016_effusion_first_reviewer.nii.gz',\n",
       " '/Lungeholdet2024/PleuraEffusion_pilot/Effusions/LUNG1-018/LUNG1-018_effusion_first_reviewer.nii.gz',\n",
       " '/Lungeholdet2024/PleuraEffusion_pilot/Effusions/LUNG1-024/LUNG1-024_effusion_first_reviewer.nii.gz',\n",
       " '/Lungeholdet2024/PleuraEffusion_pilot/Effusions/LUNG1-026/LUNG1-026_effusion_first_reviewer.nii.gz',\n",
       " '/Lungeholdet2024/PleuraEffusion_pilot/Effusions/LUNG1-028/LUNG1-028_effusion_first_reviewer.nii.gz',\n",
       " '/Lungeholdet2024/PleuraEffusion_pilot/Effusions/LUNG1-035/LUNG1-035_effusion_first_reviewer.nii.gz',\n",
       " '/Lungeholdet2024/PleuraEffusion_pilot/Effusions/LUNG1-038/LUNG1-038_effusion_first_reviewer.nii.gz',\n",
       " '/Lungeholdet2024/PleuraEffusion_pilot/Effusions/LUNG1-042/LUNG1-042_effusion_first_reviewer.nii.gz',\n",
       " '/Lungeholdet2024/PleuraEffusion_pilot/Effusions/LUNG1-046/LUNG1-046_effusion_first_reviewer.nii.gz'}"
      ]
     },
     "execution_count": 3,
     "metadata": {},
     "output_type": "execute_result"
    }
   ],
   "source": [
    "effusion_gt_path = '\\Lungeholdet2024\\PleuraEffusion_pilot\\Effusions'\n",
    "files = glob.glob(os.path.join(effusion_gt_path, \"*1-0[0-4][0-9]*\",\"*first_reviewer.*\"))\n",
    "\n",
    "files = [f.replace('\\\\', '/') for f in files]\n",
    "gt_effusion_set = set()\n",
    "for folder in files:\n",
    "    fold = folder.split('/1-')[0]\n",
    "    gt_effusion_set.add(fold)\n",
    "gt_effusion_set"
   ]
  },
  {
   "cell_type": "code",
   "execution_count": 187,
   "metadata": {},
   "outputs": [
    {
     "name": "stderr",
     "output_type": "stream",
     "text": [
      "100%|██████████| 14/14 [01:51<00:00,  7.94s/it]\n"
     ]
    }
   ],
   "source": [
    "segmentations = []\n",
    "for lung_patient in tqdm(gt_effusion_set):\n",
    "    totalseg = load_nifti_convert_to_numpy(f'/Lungeholdet2024/PleuraEffusion_pilot/Dataset/total_pleural_segmentation/{lung_patient[48:57]}'+'.nii.gz')\n",
    "    gt_seg = load_nifti_convert_to_numpy(lung_patient)\n",
    "    gt_seg=gt_seg.transpose(1,0,2)[::-1,:,:]\n",
    "    totalseg=totalseg.transpose(1,2,0)\n",
    "    segmentations.append((totalseg,gt_seg))\n"
   ]
  },
  {
   "cell_type": "code",
   "execution_count": 188,
   "metadata": {},
   "outputs": [
    {
     "name": "stdout",
     "output_type": "stream",
     "text": [
      "(1000, 1000, 684) (1000, 1000, 684)\n",
      "(1000, 1000, 612) (1000, 1000, 612)\n",
      "(1000, 1000, 564) (1000, 1000, 564)\n",
      "(1000, 1000, 534) (1000, 1000, 534)\n",
      "(1000, 1000, 492) (1000, 1000, 492)\n",
      "(1000, 1000, 666) (1000, 1000, 666)\n",
      "(1000, 1000, 804) (1000, 1000, 804)\n",
      "(1000, 1000, 570) (1000, 1000, 570)\n",
      "(1000, 1000, 660) (1000, 1000, 660)\n",
      "(1000, 1000, 594) (1000, 1000, 594)\n",
      "(1000, 1000, 684) (1000, 1000, 684)\n",
      "(1000, 1000, 1056) (1000, 1000, 1056)\n",
      "(1000, 1000, 546) (1000, 1000, 546)\n",
      "(1000, 1000, 804) (1000, 1000, 804)\n"
     ]
    }
   ],
   "source": [
    "for idx, (totalseg, gt_seg) in enumerate(segmentations):\n",
    "    print(totalseg.shape, gt_seg.shape)\n",
    "    "
   ]
  },
  {
   "cell_type": "code",
   "execution_count": 189,
   "metadata": {},
   "outputs": [
    {
     "name": "stderr",
     "output_type": "stream",
     "text": [
      "1it [00:15, 15.63s/it]"
     ]
    },
    {
     "name": "stdout",
     "output_type": "stream",
     "text": [
      "The dice coefficient of patient 18 is 0.33585631790568216\n"
     ]
    },
    {
     "name": "stderr",
     "output_type": "stream",
     "text": [
      "2it [00:29, 14.32s/it]"
     ]
    },
    {
     "name": "stdout",
     "output_type": "stream",
     "text": [
      "The dice coefficient of patient 28 is 0.3758573519882887\n"
     ]
    },
    {
     "name": "stderr",
     "output_type": "stream",
     "text": [
      "3it [00:41, 13.34s/it]"
     ]
    },
    {
     "name": "stdout",
     "output_type": "stream",
     "text": [
      "The dice coefficient of patient 35 is 0.7115484749883639\n"
     ]
    },
    {
     "name": "stderr",
     "output_type": "stream",
     "text": [
      "4it [00:52, 12.49s/it]"
     ]
    },
    {
     "name": "stdout",
     "output_type": "stream",
     "text": [
      "The dice coefficient of patient 46 is 0.0\n"
     ]
    },
    {
     "name": "stderr",
     "output_type": "stream",
     "text": [
      "5it [01:02, 11.70s/it]"
     ]
    },
    {
     "name": "stdout",
     "output_type": "stream",
     "text": [
      "The dice coefficient of patient 16 is 0.769067370860043\n"
     ]
    },
    {
     "name": "stderr",
     "output_type": "stream",
     "text": [
      "6it [01:18, 13.03s/it]"
     ]
    },
    {
     "name": "stdout",
     "output_type": "stream",
     "text": [
      "The dice coefficient of patient 02 is 0.3450372103794848\n"
     ]
    },
    {
     "name": "stderr",
     "output_type": "stream",
     "text": [
      "7it [01:48, 18.68s/it]"
     ]
    },
    {
     "name": "stdout",
     "output_type": "stream",
     "text": [
      "The dice coefficient of patient 13 is 0.0\n"
     ]
    },
    {
     "name": "stderr",
     "output_type": "stream",
     "text": [
      "8it [02:01, 16.84s/it]"
     ]
    },
    {
     "name": "stdout",
     "output_type": "stream",
     "text": [
      "The dice coefficient of patient 24 is 0.858234483571648\n"
     ]
    },
    {
     "name": "stderr",
     "output_type": "stream",
     "text": [
      "9it [02:22, 18.29s/it]"
     ]
    },
    {
     "name": "stdout",
     "output_type": "stream",
     "text": [
      "The dice coefficient of patient 26 is 0.9199881570097593\n"
     ]
    },
    {
     "name": "stderr",
     "output_type": "stream",
     "text": [
      "10it [02:34, 16.08s/it]"
     ]
    },
    {
     "name": "stdout",
     "output_type": "stream",
     "text": [
      "The dice coefficient of patient 42 is 0.11031871778673397\n"
     ]
    },
    {
     "name": "stderr",
     "output_type": "stream",
     "text": [
      "11it [02:47, 15.35s/it]"
     ]
    },
    {
     "name": "stdout",
     "output_type": "stream",
     "text": [
      "The dice coefficient of patient 08 is 0.39559088820689886\n"
     ]
    },
    {
     "name": "stderr",
     "output_type": "stream",
     "text": [
      "12it [03:14, 18.85s/it]"
     ]
    },
    {
     "name": "stdout",
     "output_type": "stream",
     "text": [
      "The dice coefficient of patient 38 is 0.0009617848884588693\n"
     ]
    },
    {
     "name": "stderr",
     "output_type": "stream",
     "text": [
      "13it [03:22, 15.40s/it]"
     ]
    },
    {
     "name": "stdout",
     "output_type": "stream",
     "text": [
      "The dice coefficient of patient 05 is 0.0843217322546162\n"
     ]
    },
    {
     "name": "stderr",
     "output_type": "stream",
     "text": [
      "14it [03:39, 15.71s/it]"
     ]
    },
    {
     "name": "stdout",
     "output_type": "stream",
     "text": [
      "The dice coefficient of patient 01 is 0.494518243290598\n"
     ]
    },
    {
     "name": "stderr",
     "output_type": "stream",
     "text": [
      "\n"
     ]
    }
   ],
   "source": [
    "dice_coefficients = []\n",
    "def dice_coef(y_true, y_pred):\n",
    "    intersect = np.multiply(np.where(y_pred==2,1,0),y_true)\n",
    "    cX = np.where(y_pred==2,1,0).sum()\n",
    "    cY = np.where(y_true==1,1,0).sum()\n",
    "    dice = 2 * np.sum(intersect) / (cX+cY)\n",
    "    return dice\n",
    "\n",
    "\n",
    "for patient, lung_patient in tqdm(zip(range(len(segmentations)),gt_effusion_set)):\n",
    "    im1 = np.asarray(segmentations[patient][0])\n",
    "    im2 = np.asarray(segmentations[patient][1])\n",
    "    \n",
    "    if im1.shape != im2.shape:\n",
    "        raise ValueError(\"Shape mismatch: im1 and im2 must have the same shape.\")\n",
    "\n",
    "    dice_coeff = dice_coef(im2,im1)\n",
    "    dice_coefficients.append([lung_patient[48:57],dice_coeff])\n",
    "    print(f'The dice coefficient of patient {lung_patient[55:57]} is {dice_coeff}')"
   ]
  },
  {
   "cell_type": "code",
   "execution_count": 183,
   "metadata": {},
   "outputs": [],
   "source": [
    "# Creating the dice calculations\n",
    "intersect = np.multiply(np.where(totalseg==2,1,0),gt_seg)\n",
    "cX = np.where(totalseg==2,1,0).sum()\n",
    "cY = np.where(gt_seg==1,1,0).sum()\n",
    "dice = 2 * np.sum(intersect) / (cX+cY)"
   ]
  }
 ],
 "metadata": {
  "kernelspec": {
   "display_name": "Lungeholdet",
   "language": "python",
   "name": "python3"
  },
  "language_info": {
   "codemirror_mode": {
    "name": "ipython",
    "version": 3
   },
   "file_extension": ".py",
   "mimetype": "text/x-python",
   "name": "python",
   "nbconvert_exporter": "python",
   "pygments_lexer": "ipython3",
   "version": "3.10.14"
  }
 },
 "nbformat": 4,
 "nbformat_minor": 2
}
