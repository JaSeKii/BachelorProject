{
 "cells": [
  {
   "cell_type": "markdown",
   "metadata": {},
   "source": [
    "# Sanity check (checking size of resampled data)"
   ]
  },
  {
   "cell_type": "code",
   "execution_count": 2,
   "metadata": {},
   "outputs": [],
   "source": [
    "import numpy as np\n",
    "import os\n",
    "import sys"
   ]
  },
  {
   "cell_type": "code",
   "execution_count": 19,
   "metadata": {},
   "outputs": [],
   "source": [
    "%%capture\n",
    "# Import function from other directory\n",
    "parent_dir = os.path.abspath(os.path.join(os.getcwd(), os.pardir))\n",
    "data_preprocess_dir = os.path.join(parent_dir, \"DataPreprocess\")\n",
    "sys.path.append(data_preprocess_dir)\n",
    "from preprocess_tools import *\n",
    "\n",
    "# data_preprocess_dir = os.path.join(parent_dir, \"DataPreprocess\")\n",
    "# sys.path.append(data_preprocess_dir)\n",
    "# from main_preprocess import input_path_Dataset_resampled, input_path_Dataset_raw"
   ]
  },
  {
   "cell_type": "code",
   "execution_count": 17,
   "metadata": {},
   "outputs": [],
   "source": [
    "resampled_cropped_ct_path = '/Users/bruger/Desktop/Bachelor/resampled_lung_pilot_data/cropped_lungs_ct/'"
   ]
  },
  {
   "cell_type": "code",
   "execution_count": null,
   "metadata": {},
   "outputs": [
    {
     "name": "stdout",
     "output_type": "stream",
     "text": [
      "Raw image shape: (740, 740, 956) and resampled imange shape: (740, 740, 956)\n",
      "\n",
      "Raw image shape: (640, 640, 821) and resampled imange shape: (640, 640, 821)\n",
      "\n",
      "Raw image shape: (796, 796, 931) and resampled imange shape: (796, 796, 931)\n",
      "\n",
      "Raw image shape: (678, 678, 966) and resampled imange shape: (678, 678, 966)\n",
      "\n",
      "Raw image shape: (640, 640, 1041) and resampled imange shape: (640, 640, 1041)\n",
      "\n",
      "Raw image shape: (798, 798, 936) and resampled imange shape: (798, 798, 936)\n",
      "\n",
      "Raw image shape: (640, 640, 881) and resampled imange shape: (640, 640, 881)\n",
      "\n",
      "Raw image shape: (640, 640, 776) and resampled imange shape: (640, 640, 776)\n",
      "\n",
      "Raw image shape: (640, 640, 801) and resampled imange shape: (640, 640, 801)\n",
      "\n",
      "Raw image shape: (640, 640, 981) and resampled imange shape: (640, 640, 981)\n",
      "\n",
      "Raw image shape: (640, 640, 911) and resampled imange shape: (640, 640, 911)\n",
      "\n",
      "Raw image shape: (616, 616, 846) and resampled imange shape: (616, 616, 846)\n",
      "\n",
      "Raw image shape: (790, 790, 971) and resampled imange shape: (790, 790, 971)\n",
      "\n",
      "Raw image shape: (640, 640, 851) and resampled imange shape: (640, 640, 851)\n",
      "\n",
      "Raw image shape: (640, 640, 966) and resampled imange shape: (640, 640, 966)\n",
      "\n",
      "Raw image shape: (740, 740, 881) and resampled imange shape: (740, 740, 881)\n",
      "\n",
      "Raw image shape: (640, 640, 841) and resampled imange shape: (640, 640, 841)\n",
      "\n",
      "Raw image shape: (820, 820, 1001) and resampled imange shape: (820, 820, 1001)\n",
      "\n",
      "Raw image shape: (640, 640, 901) and resampled imange shape: (640, 640, 901)\n",
      "\n",
      "Raw image shape: (704, 704, 1011) and resampled imange shape: (704, 704, 1011)\n",
      "\n",
      "Raw image shape: (640, 640, 916) and resampled imange shape: (640, 640, 916)\n",
      "\n",
      "Raw image shape: (640, 640, 881) and resampled imange shape: (640, 640, 881)\n",
      "\n",
      "Raw image shape: (796, 796, 891) and resampled imange shape: (796, 796, 891)\n",
      "\n",
      "Raw image shape: (736, 736, 866) and resampled imange shape: (736, 736, 866)\n",
      "\n",
      "Raw image shape: (640, 640, 866) and resampled imange shape: (640, 640, 866)\n",
      "\n"
     ]
    }
   ],
   "source": [
    "# list dimensions of all dataset files\n",
    "for patient in os.listdir(resampled_cropped_ct_path):\n",
    "    np_img_raw = load_nifti_convert_to_numpy(resampled_cropped_ct_path+patient)   \n",
    "    np_img_resampled = load_nifti_convert_to_numpy(resampled_cropped_ct_path+patient)\n",
    "    print(f'Raw image shape: {np_img_raw.shape} and resampled image shape: {np_img_resampled.shape}\\n')"
   ]
  }
 ],
 "metadata": {
  "kernelspec": {
   "display_name": "bachelor",
   "language": "python",
   "name": "python3"
  },
  "language_info": {
   "codemirror_mode": {
    "name": "ipython",
    "version": 3
   },
   "file_extension": ".py",
   "mimetype": "text/x-python",
   "name": "python",
   "nbconvert_exporter": "python",
   "pygments_lexer": "ipython3",
   "version": "3.12.5"
  }
 },
 "nbformat": 4,
 "nbformat_minor": 2
}
