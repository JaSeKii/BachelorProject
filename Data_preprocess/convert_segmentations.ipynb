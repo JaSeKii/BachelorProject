{
 "cells": [
  {
   "cell_type": "code",
   "execution_count": 1,
   "metadata": {},
   "outputs": [
    {
     "name": "stderr",
     "output_type": "stream",
     "text": [
      "c:\\Users\\PC\\anaconda3\\envs\\Lungeholdet\\lib\\site-packages\\tqdm\\auto.py:21: TqdmWarning: IProgress not found. Please update jupyter and ipywidgets. See https://ipywidgets.readthedocs.io/en/stable/user_install.html\n",
      "  from .autonotebook import tqdm as notebook_tqdm\n"
     ]
    }
   ],
   "source": [
    "# convert segmentations to only lung and have value 1 = healthy\n",
    "# background = 0\n",
    "\n",
    "import numpy as np\n",
    "import os\n",
    "from preprocess_tools import *\n",
    "from main_preprocess import input_path_segmentations, output_path_lung"
   ]
  },
  {
   "cell_type": "code",
   "execution_count": 22,
   "metadata": {},
   "outputs": [
    {
     "name": "stdout",
     "output_type": "stream",
     "text": [
      "saving\n",
      "saving\n",
      "saving\n",
      "saving\n",
      "saving\n",
      "saving\n",
      "saving\n",
      "saving\n",
      "saving\n",
      "saving\n",
      "saving\n",
      "saving\n",
      "saving\n",
      "saving\n",
      "saving\n",
      "saving\n",
      "saving\n",
      "saving\n",
      "saving\n",
      "saving\n",
      "saving\n",
      "saving\n",
      "saving\n",
      "saving\n",
      "saving\n"
     ]
    }
   ],
   "source": [
    "for segmentation in os.listdir(input_path_segmentations):\n",
    "    if 'totalSeg' in segmentation:\n",
    "        segname = 'lungSEG_' + segmentation[23:26] + '.nii.gz'\n",
    "        CTname = 'lungCT_' + segmentation[23:26] + '_0000.nii.gz'\n",
    "        total_segmentation = load_nifti_convert_to_numpy(input_path=input_path_segmentations+segmentation)\n",
    "        lung_segmentation = np.isin(total_segmentation,np.array([10,11,12,13,14])).astype(int)\n",
    "        new_lung_seg = np.where(lung_segmentation==1,1,0)\n",
    "        convert_numpy_to_nifti_and_save(new_lung_seg,input_path_segmentations+segname,output_path_lung+CTname)"
   ]
  },
  {
   "cell_type": "code",
   "execution_count": 26,
   "metadata": {},
   "outputs": [
    {
     "data": {
      "text/plain": [
       "1"
      ]
     },
     "execution_count": 26,
     "metadata": {},
     "output_type": "execute_result"
    }
   ],
   "source": [
    "test = load_nifti_convert_to_numpy(input_path_segmentations + 'lungSEG_000.nii.gz')\n",
    "test.max()"
   ]
  },
  {
   "cell_type": "code",
   "execution_count": 6,
   "metadata": {},
   "outputs": [],
   "source": [
    "test_path = \"E:/Lungeholdet2024/test/labelSEG_001.nii.gz\"\n",
    "#input_path_segmentations\n",
    "test = load_nifti_convert_to_numpy(test_path)"
   ]
  },
  {
   "cell_type": "code",
   "execution_count": 24,
   "metadata": {},
   "outputs": [
    {
     "name": "stdout",
     "output_type": "stream",
     "text": [
      "lungtest (54077947,)\n",
      "GGOtest (140449,)\n",
      "CONStest (144073,)\n"
     ]
    },
    {
     "data": {
      "text/plain": [
       "(372031131,)"
      ]
     },
     "execution_count": 24,
     "metadata": {},
     "output_type": "execute_result"
    }
   ],
   "source": [
    "print('lungtest',test[test==1].shape)\n",
    "print('GGOtest', test[test==2].shape)\n",
    "print('CONStest', test[test==3].shape) \n",
    "\n",
    "test[test==0].shape"
   ]
  },
  {
   "cell_type": "code",
   "execution_count": 21,
   "metadata": {},
   "outputs": [
    {
     "data": {
      "text/plain": [
       "(372031131,)"
      ]
     },
     "execution_count": 21,
     "metadata": {},
     "output_type": "execute_result"
    }
   ],
   "source": []
  }
 ],
 "metadata": {
  "kernelspec": {
   "display_name": "Lungeholdet",
   "language": "python",
   "name": "python3"
  },
  "language_info": {
   "codemirror_mode": {
    "name": "ipython",
    "version": 3
   },
   "file_extension": ".py",
   "mimetype": "text/x-python",
   "name": "python",
   "nbconvert_exporter": "python",
   "pygments_lexer": "ipython3",
   "version": "3.10.14"
  }
 },
 "nbformat": 4,
 "nbformat_minor": 2
}
